{
 "cells": [
  {
   "cell_type": "code",
   "execution_count": 1,
   "metadata": {},
   "outputs": [],
   "source": [
    "import numpy as np\n",
    "import matplotlib.pyplot as plt\n",
    "\n",
    "from scipy.stats import ortho_group\n",
    "\n",
    "\n",
    "E = np.array([[2,1], [4,6], [-2, 1], [5, -3]])\n",
    "#T = ortho_group.rvs(dim=2) generate a random unitary matrix\n",
    "angle = np.pi / 3 # assume the ideal angle between the languages is 60 degrees\n",
    "T = np.array([[np.cos(angle), -np.sin(angle)], [np.sin(angle), np.cos(angle)]])\n",
    "F = (E @ T) # French vectors are simply rotated by angle"
   ]
  },
  {
   "cell_type": "code",
   "execution_count": 2,
   "metadata": {},
   "outputs": [
    {
     "name": "stdout",
     "output_type": "stream",
     "text": [
      "[[ 0.5       -0.8660254]\n",
      " [ 0.8660254  0.5      ]]\n"
     ]
    },
    {
     "data": {
      "text/plain": [
       "(-2.472674876180873, 7.729039783310882, -6.5661818088987545, 6.61284351512994)"
      ]
     },
     "execution_count": 2,
     "metadata": {},
     "output_type": "execute_result"
    },
    {
     "data": {
      "image/png": "[encoded data removed]",
      "text/plain": [
       "<Figure size 432x288 with 1 Axes>"
      ]
     },
     "metadata": {},
     "output_type": "display_data"
    }
   ],
   "source": [
    "plt.scatter(E[:,0], E[:,1])\n",
    "for i,e in enumerate(E):\n",
    "    plt.annotate(i, (e[0], e[1]))\n",
    "plt.scatter(F[:,0], F[:,1])\n",
    "for i,f in enumerate(F):\n",
    "    plt.annotate(i, (f[0], f[1]))\n",
    "print(T)\n",
    "plt.axis('equal')"
   ]
  },
  {
   "cell_type": "markdown",
   "metadata": {},
   "source": [
    "Knowing the embeddings of the pivot elements, we can guess the transformation between the two representations relying on the pseudoinverse of $E$."
   ]
  },
  {
   "cell_type": "code",
   "execution_count": 3,
   "metadata": {},
   "outputs": [],
   "source": [
    "pinv_trafo = lambda src, tgt: np.linalg.pinv(src) @ tgt\n",
    "\n",
    "def ortho_trafo(src, tgt):\n",
    "    U,S,V = np.linalg.svd(src.T @ tgt)\n",
    "    return np.dot(U, V)"
   ]
  },
  {
   "cell_type": "code",
   "execution_count": 4,
   "metadata": {
    "scrolled": true
   },
   "outputs": [
    {
     "name": "stdout",
     "output_type": "stream",
     "text": [
      "[[ 0.5        0.8660254]\n",
      " [-0.8660254  0.5      ]]\n",
      "[[ 0.5        0.8660254]\n",
      " [-0.8660254  0.5      ]]\n"
     ]
    }
   ],
   "source": [
    "print(pinv_trafo(F, E))\n",
    "print(ortho_trafo(F, E))"
   ]
  },
  {
   "cell_type": "markdown",
   "metadata": {},
   "source": [
    "[Pseudoinverse](https://en.wikipedia.org/wiki/Moore%E2%80%93Penrose_inverse) of any matrix $X$ simply equals $(X^T X) X^T$."
   ]
  },
  {
   "cell_type": "code",
   "execution_count": 5,
   "metadata": {},
   "outputs": [],
   "source": [
    "def pinv_calc(X):\n",
    "    return np.linalg.inv(X.T@X)@X.T\n",
    "\n",
    "def calc_residuum(X, Y):\n",
    "    return np.linalg.norm(X-Y, 'fro')"
   ]
  },
  {
   "cell_type": "markdown",
   "metadata": {},
   "source": [
    "Indeed, our calculation gives us nearly (up to some numerical error) the same result as invoking `np.linalg.pinv`"
   ]
  },
  {
   "cell_type": "code",
   "execution_count": 6,
   "metadata": {},
   "outputs": [
    {
     "name": "stdout",
     "output_type": "stream",
     "text": [
      "9.60385280722898e-17\n"
     ]
    }
   ],
   "source": [
    "print(calc_residuum(pinv_calc(E), np.linalg.pinv(E)))"
   ]
  },
  {
   "cell_type": "code",
   "execution_count": 7,
   "metadata": {},
   "outputs": [
    {
     "name": "stdout",
     "output_type": "stream",
     "text": [
      "9.797958971132712\n"
     ]
    }
   ],
   "source": [
    "print(calc_residuum(E, F))"
   ]
  },
  {
   "cell_type": "code",
   "execution_count": 8,
   "metadata": {},
   "outputs": [
    {
     "name": "stdout",
     "output_type": "stream",
     "text": [
      "1.6050308076832566e-15\n",
      "1.6946818973100072e-15\n"
     ]
    }
   ],
   "source": [
    "print(calc_residuum(E, F@pinv_trafo(F, E)))\n",
    "print(calc_residuum(E, F@ortho_trafo(F, E)))"
   ]
  },
  {
   "cell_type": "markdown",
   "metadata": {},
   "source": [
    "## What happens if we have noisy pivot elements as well?"
   ]
  },
  {
   "cell_type": "code",
   "execution_count": 9,
   "metadata": {},
   "outputs": [],
   "source": [
    "F[-1,:] += [-3, -1]"
   ]
  },
  {
   "cell_type": "code",
   "execution_count": 10,
   "metadata": {},
   "outputs": [
    {
     "name": "stdout",
     "output_type": "stream",
     "text": [
      "[[ 0.5       -0.8660254]\n",
      " [ 0.8660254  0.5      ]]\n"
     ]
    },
    {
     "data": {
      "text/plain": [
       "(-3.688878006746399, 7.786954218099717, -7.616181808898755, 6.662843515129941)"
      ]
     },
     "execution_count": 10,
     "metadata": {},
     "output_type": "execute_result"
    },
    {
     "data": {
      "image/png": "[encoded data removed]",
      "text/plain": [
       "<Figure size 432x288 with 1 Axes>"
      ]
     },
     "metadata": {},
     "output_type": "display_data"
    }
   ],
   "source": [
    "plt.scatter(E[:,0], E[:,1])\n",
    "for i,e in enumerate(E):\n",
    "    plt.annotate(i, (e[0], e[1]))\n",
    "plt.scatter(F[:,0], F[:,1])\n",
    "for i,f in enumerate(F):\n",
    "    plt.annotate(i, (f[0], f[1]))\n",
    "print(T)\n",
    "plt.axis('equal')"
   ]
  },
  {
   "cell_type": "markdown",
   "metadata": {},
   "source": [
    "Let's see the overall reconstruction error for the source vectors."
   ]
  },
  {
   "cell_type": "code",
   "execution_count": 11,
   "metadata": {},
   "outputs": [
    {
     "name": "stdout",
     "output_type": "stream",
     "text": [
      "Pseudoinverse:  1.039987316628092\n",
      "Orthogonal:  7.0591721359321395\n"
     ]
    }
   ],
   "source": [
    "pinv_F = F@pinv_trafo(F, E)\n",
    "ortho_F = F@ortho_trafo(F, E)\n",
    "print('Pseudoinverse: ', calc_residuum(E, pinv_F)**2)\n",
    "print('Orthogonal: ', calc_residuum(E, ortho_F)**2)"
   ]
  },
  {
   "cell_type": "markdown",
   "metadata": {},
   "source": [
    "Now check the individual recostruction errors for the individual vectors:"
   ]
  },
  {
   "cell_type": "code",
   "execution_count": 12,
   "metadata": {},
   "outputs": [
    {
     "name": "stdout",
     "output_type": "stream",
     "text": [
      "0 0.13356610656303503 0.14193901274399928\n",
      "1 0.06366109917201139 1.4761657325375968\n",
      "2 0.7346027490183159 0.1419390127439994\n",
      "3 0.10815736187472992 5.299128377906546\n",
      "Aggregated squared differences: 1.0399873166280924 7.059172135932141\n"
     ]
    }
   ],
   "source": [
    "pinv_delta_sum, ortho_delta_sum = 0,0\n",
    "for i, (e, pinv_f, ortho_f) in enumerate(zip(E, pinv_F, ortho_F)):\n",
    "    pinv_delta_squared = sum((e - pinv_f)**2)\n",
    "    pinv_delta_sum += pinv_delta_squared\n",
    "    ortho_delta_squared = sum((e - ortho_f)**2)\n",
    "    ortho_delta_sum += ortho_delta_squared\n",
    "    print(i, pinv_delta_squared, ortho_delta_squared)\n",
    "print(\"Aggregated squared differences:\", pinv_delta_sum, ortho_delta_sum)    "
   ]
  },
  {
   "cell_type": "code",
   "execution_count": 13,
   "metadata": {},
   "outputs": [
    {
     "data": {
      "text/plain": [
       "(-2.6035008823095973,\n",
       " 5.371458738037954,\n",
       " -3.9328542354346907,\n",
       " 6.487446964012604)"
      ]
     },
     "execution_count": 13,
     "metadata": {},
     "output_type": "execute_result"
    },
    {
     "data": {
      "image/png": "[encoded data removed]",
      "text/plain": [
       "<Figure size 432x288 with 1 Axes>"
      ]
     },
     "metadata": {},
     "output_type": "display_data"
    }
   ],
   "source": [
    "plt.scatter(E[:,0], E[:,1])\n",
    "for i,e in enumerate(E):\n",
    "    plt.annotate(i, (e[0], e[1]))\n",
    "plt.scatter(pinv_F[:,0], pinv_F[:,1])\n",
    "for i,f in enumerate(pinv_F):\n",
    "    plt.annotate(i, (f[0], f[1]))\n",
    "plt.title('The effect of pseudoinverse transformation')\n",
    "plt.axis('equal')"
   ]
  },
  {
   "cell_type": "code",
   "execution_count": 14,
   "metadata": {},
   "outputs": [
    {
     "data": {
      "text/plain": [
       "(-2.588957804584726, 5.777305215715537, -6.02247233671863, 7.33034236549028)"
      ]
     },
     "execution_count": 14,
     "metadata": {},
     "output_type": "execute_result"
    },
    {
     "data": {
      "image/png": "[encoded data removed]",
      "text/plain": [
       "<Figure size 432x288 with 1 Axes>"
      ]
     },
     "metadata": {},
     "output_type": "display_data"
    }
   ],
   "source": [
    "plt.scatter(E[:,0], E[:,1])\n",
    "for i,e in enumerate(E):\n",
    "    plt.annotate(i, (e[0], e[1]))\n",
    "plt.scatter(ortho_F[:,0], ortho_F[:,1])\n",
    "for i,f in enumerate(ortho_F):\n",
    "    plt.annotate(i, (f[0], f[1]))\n",
    "plt.title('The effect of orthogonal transformation')\n",
    "plt.axis('equal')"
   ]
  }
 ],
 "metadata": {
  "kernelspec": {
   "display_name": "Python 3",
   "language": "python",
   "name": "python3"
  },
  "language_info": {
   "codemirror_mode": {
    "name": "ipython",
    "version": 3
   },
   "file_extension": ".py",
   "mimetype": "text/x-python",
   "name": "python",
   "nbconvert_exporter": "python",
   "pygments_lexer": "ipython3",
   "version": "3.5.4"
  }
 },
 "nbformat": 4,
 "nbformat_minor": 2
}

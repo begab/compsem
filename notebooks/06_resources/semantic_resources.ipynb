{
 "cells": [
  {
   "cell_type": "markdown",
   "metadata": {},
   "source": [
    "# Using gensim"
   ]
  },
  {
   "cell_type": "code",
   "execution_count": 94,
   "metadata": {},
   "outputs": [
    {
     "name": "stdout",
     "output_type": "stream",
     "text": [
      "hu-cbow.vec.gz  got downloaded\n"
     ]
    }
   ],
   "source": [
    "import os\n",
    "import wget\n",
    "\n",
    "url = 'http://rgai.inf.u-szeged.hu/~berend/compsem/hu-cbow.vec.gz'\n",
    "embedding_file_name = url.split('/')[-1]\n",
    "if not os.path.exists(embedding_file_name):\n",
    "    filename = wget.download(url)\n",
    "    print(filename, \" got downloaded\")"
   ]
  },
  {
   "cell_type": "code",
   "execution_count": 82,
   "metadata": {},
   "outputs": [],
   "source": [
    "from gensim.models.keyedvectors import KeyedVectors\n",
    "\n",
    "embeddings = KeyedVectors.load_word2vec_format(embedding_file_name, limit=30000)"
   ]
  },
  {
   "cell_type": "code",
   "execution_count": 83,
   "metadata": {},
   "outputs": [
    {
     "name": "stdout",
     "output_type": "stream",
     "text": [
      "[('macska', 0.8715766668319702), ('ló', 0.8034482002258301), ('majom', 0.7777713537216187), ('madár', 0.7722772359848022), ('egér', 0.7345019578933716)]\n"
     ]
    },
    {
     "name": "stderr",
     "output_type": "stream",
     "text": [
      "/home/berend/anaconda2/envs/py3k/lib/python3.6/site-packages/gensim/models/keyedvectors.py:1048: RuntimeWarning: invalid value encountered in true_divide\n",
      "  self.vectors_norm = (self.vectors / sqrt((self.vectors ** 2).sum(-1))[..., newaxis]).astype(REAL)\n"
     ]
    }
   ],
   "source": [
    "print(embeddings.most_similar('kutya', topn=5))"
   ]
  },
  {
   "cell_type": "code",
   "execution_count": 84,
   "metadata": {},
   "outputs": [
    {
     "name": "stdout",
     "output_type": "stream",
     "text": [
      "[('zsákmány', 0.649147629737854), ('ellenség', 0.6485747694969177), ('állat', 0.6432604193687439), ('fegyver', 0.6141625642776489), ('macska', 0.6066000461578369)]\n"
     ]
    }
   ],
   "source": [
    "print(embeddings.most_similar(positive=['kutya', 'ellenséges'], negative=['barátságos'], topn=5))"
   ]
  },
  {
   "cell_type": "markdown",
   "metadata": {},
   "source": [
    "# Querying WordNet\n",
    "  \n",
    "[WordNet](https://wordnet.princeton.edu/) is a lexical database originally created for English alone.\n",
    "Since its creation many extension (such as [BabelNet](http://babelnet.org/)) has been created.\n",
    "\n",
    "WordNet organizes word forms into semantically coherent groups of word, called _synsets_.\n",
    "The database consist of multiple sub-databases for senses of words belonging to different par-of-speech (_noun_, _verb_, _adverb_ and _adjective_).\n",
    "Sysnets of WordNet can be connected if ceratin relations hold such as\n",
    "* _synonymy_ such as **synonym(dog, canis)**\n",
    "* _antonimy_ such as **antonym(happy, sad)**\n",
    "* _meronymy_ such as **meronymy(dog, kennel)**\n",
    "* _holonymy_ such as **holonymy(dog, tail)**\n",
    "* _hypernymy_ such as **hypernymy(dog, animal)**\n",
    "* _hyponymy_ such as **hyponymy(dog, chiwawa)**"
   ]
  },
  {
   "cell_type": "code",
   "execution_count": 2,
   "metadata": {},
   "outputs": [],
   "source": [
    "from nltk.corpus import wordnet as wn"
   ]
  },
  {
   "cell_type": "markdown",
   "metadata": {},
   "source": [
    "Let's check in which synsets does the word _dog_ occurrs in!"
   ]
  },
  {
   "cell_type": "code",
   "execution_count": 3,
   "metadata": {},
   "outputs": [
    {
     "name": "stdout",
     "output_type": "stream",
     "text": [
      "Synset('dog.n.01')\n",
      "Synset('frump.n.01')\n",
      "Synset('dog.n.03')\n",
      "Synset('cad.n.01')\n",
      "Synset('frank.n.02')\n",
      "Synset('pawl.n.01')\n",
      "Synset('andiron.n.01')\n",
      "Synset('chase.v.01')\n"
     ]
    }
   ],
   "source": [
    "dog_synsets = wn.synsets('dog')\n",
    "for s in dog_synsets:\n",
    "    print(s)"
   ]
  },
  {
   "cell_type": "markdown",
   "metadata": {},
   "source": [
    "Print the definitions and the part-of-speech category for the synsets of the word _dog_. Additionally print the exemplar sentences for the given synset from WordNet."
   ]
  },
  {
   "cell_type": "code",
   "execution_count": 4,
   "metadata": {},
   "outputs": [
    {
     "name": "stdout",
     "output_type": "stream",
     "text": [
      "0 n a member of the genus Canis (probably descended from the common wolf) that has been domesticated by man since prehistoric times; occurs in many breeds\n",
      "\tExample sentence #1: the dog barked all night\n",
      "1 n a dull unattractive unpleasant girl or woman\n",
      "\tExample sentence #1: she got a reputation as a frump\n",
      "\tExample sentence #2: she's a real dog\n",
      "2 n informal term for a man\n",
      "\tExample sentence #1: you lucky dog\n",
      "3 n someone who is morally reprehensible\n",
      "\tExample sentence #1: you dirty dog\n",
      "4 n a smooth-textured sausage of minced beef or pork usually smoked; often served on a bread roll\n",
      "5 n a hinged catch that fits into a notch of a ratchet to move a wheel forward or prevent it from moving backward\n",
      "6 n metal supports for logs in a fireplace\n",
      "\tExample sentence #1: the andirons were too hot to touch\n",
      "7 v go after with the intent to catch\n",
      "\tExample sentence #1: The policeman chased the mugger down the alley\n",
      "\tExample sentence #2: the dog chased the rabbit\n"
     ]
    }
   ],
   "source": [
    "for i, s in enumerate(dog_synsets):\n",
    "    print(i, s.pos(), s.definition())\n",
    "    for j, e in enumerate(s.examples()):\n",
    "        print('\\tExample sentence #{}: {}'.format(j+1, e))"
   ]
  },
  {
   "cell_type": "markdown",
   "metadata": {},
   "source": [
    "Measure the similarity of the pairs of synsets for the word _dog_ and _cat_\n",
    "according to Lin's similarity.\n",
    "The [paper of Budanitsky and Hirst](https://www.mitpressjournals.org/doi/pdf/10.1162/coli.2006.32.1.13)\n",
    "contains an extensive overview of WordNet based similarities.\n",
    "  \n",
    "[Some further read about measuring semantic similarity](https://web.stanford.edu/~jurafsky/slp3/17.pdf)\n",
    "\n",
    "Additionally, there is a [nice demo](http://ws4jdemo.appspot.com/) illustrating various similarity metrics."
   ]
  },
  {
   "cell_type": "code",
   "execution_count": 8,
   "metadata": {},
   "outputs": [
    {
     "name": "stdout",
     "output_type": "stream",
     "text": [
      "1 a member of the genus Canis (probably descended from the common wolf) that has been domesticated by man since prehistoric times; occurs in many breeds\n",
      "\t feline mammal usually having thick soft fur and no ability to roar: domestic cats; wildcats 0.8768009843733973\n",
      "\t an informal term for a youth or man 0.2373157912950559\n",
      "\t a spiteful woman gossip 0.22541367230467804\n",
      "\t the leaves of the shrub Catha edulis which are chewed like tobacco or used to make tea; has the effect of a euphoric stimulant 0.08125685233221215\n",
      "\t a whip with nine knotted cords 0.15524861014827232\n",
      "\t a large tracked vehicle that is propelled by two endless metal belts; frequently used for moving earth in construction and farm work 0.15561545181951641\n",
      "\t any of several large cats typically able to roar and living in the wild 0.8395837008502381\n",
      "\t a method of examining body organs by scanning them with X rays and using a computer to construct a series of cross-sectional scans along a single axis -0.0\n",
      "\tPOS tags mismatch\n",
      "\tPOS tags mismatch\n",
      "========\n",
      "2 a dull unattractive unpleasant girl or woman\n",
      "\t feline mammal usually having thick soft fur and no ability to roar: domestic cats; wildcats 0.23951941765186277\n",
      "\t an informal term for a youth or man 0.24220294799334202\n",
      "\t a spiteful woman gossip 0.23037057719698883\n",
      "\t the leaves of the shrub Catha edulis which are chewed like tobacco or used to make tea; has the effect of a euphoric stimulant 0.22534588591102686\n",
      "\t a whip with nine knotted cords 0.15122459037066463\n",
      "\t a large tracked vehicle that is propelled by two endless metal belts; frequently used for moving earth in construction and farm work 0.15157264022538117\n",
      "\t any of several large cats typically able to roar and living in the wild 0.22962820784262994\n",
      "\t a method of examining body organs by scanning them with X rays and using a computer to construct a series of cross-sectional scans along a single axis -0.0\n",
      "\tPOS tags mismatch\n",
      "\tPOS tags mismatch\n",
      "========\n",
      "3 informal term for a man\n",
      "\t feline mammal usually having thick soft fur and no ability to roar: domestic cats; wildcats 0.23951941765186277\n",
      "\t an informal term for a youth or man 0.5534326674706928\n",
      "\t a spiteful woman gossip 0.23037057719698883\n",
      "\t the leaves of the shrub Catha edulis which are chewed like tobacco or used to make tea; has the effect of a euphoric stimulant 0.22534588591102686\n",
      "\t a whip with nine knotted cords 0.15122459037066463\n",
      "\t a large tracked vehicle that is propelled by two endless metal belts; frequently used for moving earth in construction and farm work 0.15157264022538117\n",
      "\t any of several large cats typically able to roar and living in the wild 0.22962820784262994\n",
      "\t a method of examining body organs by scanning them with X rays and using a computer to construct a series of cross-sectional scans along a single axis -0.0\n",
      "\tPOS tags mismatch\n",
      "\tPOS tags mismatch\n",
      "========\n",
      "4 someone who is morally reprehensible\n",
      "\t feline mammal usually having thick soft fur and no ability to roar: domestic cats; wildcats 0.24347825549150762\n",
      "\t an informal term for a youth or man 0.24605891467828525\n",
      "\t a spiteful woman gossip 0.23385628355068216\n",
      "\t the leaves of the shrub Catha edulis which are chewed like tobacco or used to make tea; has the effect of a euphoric stimulant 0.22875556433374944\n",
      "\t a whip with nine knotted cords 0.15351274939645446\n",
      "\t a large tracked vehicle that is propelled by two endless metal belts; frequently used for moving earth in construction and farm work 0.15387142401687748\n",
      "\t any of several large cats typically able to roar and living in the wild 0.23326434623138287\n",
      "\t a method of examining body organs by scanning them with X rays and using a computer to construct a series of cross-sectional scans along a single axis -0.0\n",
      "\tPOS tags mismatch\n",
      "\tPOS tags mismatch\n",
      "========\n",
      "5 a smooth-textured sausage of minced beef or pork usually smoked; often served on a bread roll\n",
      "\t feline mammal usually having thick soft fur and no ability to roar: domestic cats; wildcats 0.08903942283155016\n",
      "\t an informal term for a youth or man 0.08571918344008472\n",
      "\t a spiteful woman gossip 0.08141189887394346\n",
      "\t the leaves of the shrub Catha edulis which are chewed like tobacco or used to make tea; has the effect of a euphoric stimulant 0.3388144378905526\n",
      "\t a whip with nine knotted cords 0.08141189887394346\n",
      "\t a large tracked vehicle that is propelled by two endless metal belts; frequently used for moving earth in construction and farm work 0.08160463746262316\n",
      "\t any of several large cats typically able to roar and living in the wild 0.08525244394309735\n",
      "\t a method of examining body organs by scanning them with X rays and using a computer to construct a series of cross-sectional scans along a single axis -0.0\n",
      "\tPOS tags mismatch\n",
      "\tPOS tags mismatch\n",
      "========\n",
      "6 a hinged catch that fits into a notch of a ratchet to move a wheel forward or prevent it from moving backward\n",
      "\t feline mammal usually having thick soft fur and no ability to roar: domestic cats; wildcats 0.1652160138317405\n",
      "\t an informal term for a youth or man 0.15922627102820666\n",
      "\t a spiteful woman gossip 0.151436661634164\n",
      "\t the leaves of the shrub Catha edulis which are chewed like tobacco or used to make tea; has the effect of a euphoric stimulant 0.07926168511484984\n",
      "\t a whip with nine knotted cords 0.4029998350537513\n",
      "\t a large tracked vehicle that is propelled by two endless metal belts; frequently used for moving earth in construction and farm work 0.32279551174792404\n",
      "\t any of several large cats typically able to roar and living in the wild 0.1583832354572235\n",
      "\t a method of examining body organs by scanning them with X rays and using a computer to construct a series of cross-sectional scans along a single axis -0.0\n",
      "\tPOS tags mismatch\n",
      "\tPOS tags mismatch\n",
      "========\n",
      "7 metal supports for logs in a fireplace\n",
      "\t feline mammal usually having thick soft fur and no ability to roar: domestic cats; wildcats 0.16496362582529805\n",
      "\t an informal term for a youth or man 0.15899183846529552\n",
      "\t a spiteful woman gossip 0.15122459037066463\n",
      "\t the leaves of the shrub Catha edulis which are chewed like tobacco or used to make tea; has the effect of a euphoric stimulant 0.07915068738465686\n",
      "\t a whip with nine knotted cords 0.402435475781118\n",
      "\t a large tracked vehicle that is propelled by two endless metal belts; frequently used for moving earth in construction and farm work 0.3223424298792714\n",
      "\t any of several large cats typically able to roar and living in the wild 0.1581512769563582\n",
      "\t a method of examining body organs by scanning them with X rays and using a computer to construct a series of cross-sectional scans along a single axis -0.0\n",
      "\tPOS tags mismatch\n",
      "\tPOS tags mismatch\n",
      "========\n",
      "8 go after with the intent to catch\n",
      "\tPOS tags mismatch\n",
      "\tPOS tags mismatch\n",
      "\tPOS tags mismatch\n",
      "\tPOS tags mismatch\n",
      "\tPOS tags mismatch\n",
      "\tPOS tags mismatch\n",
      "\tPOS tags mismatch\n",
      "\tPOS tags mismatch\n",
      "\t beat with a cat-o'-nine-tails 0.0\n",
      "\t eject the contents of the stomach through the mouth 0.0\n",
      "========\n"
     ]
    }
   ],
   "source": [
    "cat_synsets = wn.synsets('cat')\n",
    "from nltk.corpus import wordnet_ic  # load information content data\n",
    "brown_ic = wordnet_ic.ic('ic-brown.dat')\n",
    "semcor_ic = wordnet_ic.ic('ic-semcor.dat')\n",
    "\n",
    "for i,d in enumerate(dog_synsets):\n",
    "    print(i+1, d.definition())\n",
    "    for j,c in enumerate(cat_synsets):\n",
    "        if d.pos() == c.pos():\n",
    "            print(\"\\t\", c.definition(), d.lin_similarity(c, brown_ic))\n",
    "        else:\n",
    "            pos_mismatch = True\n",
    "            print('\\tPOS tags mismatch')\n",
    "    print(\"========\")"
   ]
  },
  {
   "cell_type": "markdown",
   "metadata": {},
   "source": [
    "Which synsets are the hypernyms of the 1st synset of the word _dog_?  \n",
    "Note: hypernyms of a concept are the set of concept which are more general."
   ]
  },
  {
   "cell_type": "code",
   "execution_count": 97,
   "metadata": {},
   "outputs": [
    {
     "name": "stdout",
     "output_type": "stream",
     "text": [
      "Synset('canine.n.02')\n",
      "Synset('domestic_animal.n.01')\n"
     ]
    }
   ],
   "source": [
    "for hypernym in dog_synsets[0].hypernyms():\n",
    "    print(hypernym)"
   ]
  },
  {
   "cell_type": "markdown",
   "metadata": {},
   "source": [
    "To learn about further functionalities of WordNet see the [documentation of the corresponding NLTK package](http://www.nltk.org/howto/wordnet.html)."
   ]
  },
  {
   "cell_type": "markdown",
   "metadata": {},
   "source": [
    "# Querying ConceptNet"
   ]
  },
  {
   "cell_type": "markdown",
   "metadata": {},
   "source": [
    "[ConceptNet](http://conceptnet.io/) is an open source massively **multilingual** semantic network\n",
    "listing the attributes of certain words and phrases and their relations.   \n",
    "The ConceptNet graph contains vertices for [100+ languages](https://github.com/commonsense/conceptnet5/wiki/Languages).\n",
    "For more deatils read the [paper introducing ConceptNet v5.0](http://www.lrec-conf.org/proceedings/lrec2012/pdf/1072_Paper.pdf)\n",
    "\n",
    "ConceptNet can be hosted on a local machine, however, it requires a substantial amount of disk capacity.\n",
    "To this end, it could be a good idea to rely on its convenient REST API to be briefly introduced next.\n",
    "For futher deatils regarding the of the API of ConceptNet see its [documentation](https://github.com/commonsense/conceptnet5/wiki/API).  "
   ]
  },
  {
   "cell_type": "code",
   "execution_count": 90,
   "metadata": {},
   "outputs": [],
   "source": [
    "import urllib\n",
    "import requests\n",
    "from contextlib import closing"
   ]
  },
  {
   "cell_type": "code",
   "execution_count": 91,
   "metadata": {},
   "outputs": [
    {
     "name": "stdout",
     "output_type": "stream",
     "text": [
      "Querying http://api.conceptnet.io/c/hu/kutya?limit=10\n",
      "/c/hu/eb\t/c/hu/kutya\tSynonym\t2.82842712474619\n",
      "/c/hu/kutya\t/c/hu/eb\tSynonym\t2.82842712474619\n",
      "/c/hu/a_hazug_embert_hamarabb_utolérik_mint_a_sánta_kutyát\t/c/hu/kutya\tDerivedFrom\t1.0\n",
      "/c/hu/a_kutya_ugat_a_karaván_halad\t/c/hu/kutya\tDerivedFrom\t1.0\n",
      "/c/hu/amelyik_kutya_ugat_az_nem_harap\t/c/hu/kutya\tDerivedFrom\t1.0\n",
      "/c/hu/egyik_kutya_másik_eb\t/c/hu/kutya\tDerivedFrom\t1.0\n",
      "/c/hu/fakutya\t/c/hu/kutya\tDerivedFrom\t1.0\n",
      "/c/hu/juhászkutya\t/c/hu/kutya\tDerivedFrom\t1.0\n",
      "/c/hu/kiskutya\t/c/hu/kutya\tDerivedFrom\t1.0\n",
      "/c/hu/könnyebb_utolérni_a_hazugot_mint_a_sánta_kutyát\t/c/hu/kutya\tDerivedFrom\t1.0\n"
     ]
    }
   ],
   "source": [
    "lang = 'hu'\n",
    "word = 'kutya'\n",
    "limit = 10\n",
    "input_url = 'http://api.conceptnet.io/c/{}/{}?limit={}'.format(lang, urllib.parse.quote_plus(word), limit)\n",
    "print('Querying {}'.format(input_url))\n",
    "try:\n",
    "    with closing(requests.get(input_url)) as response:\n",
    "        obj = response.json()\n",
    "        for edge in obj['edges']:\n",
    "            s, e, r = edge['start'], edge['end'], edge['rel']\n",
    "            print('{}\\t{}\\t{}\\t{}'.format(s['term'], e['term'], r['label'], edge['weight']))\n",
    "except (requests.exceptions.ConnectionError, requests.exceptions.Timeout, requests.exceptions.TooManyRedirects, ValueError):\n",
    "    print('Connection refused for {}'.format(input_url))"
   ]
  },
  {
   "cell_type": "code",
   "execution_count": 93,
   "metadata": {},
   "outputs": [
    {
     "name": "stdout",
     "output_type": "stream",
     "text": [
      "Querying http://api.conceptnet.io/c/en/dog?limit=10\n",
      "/c/en/dog\t/c/en/bark\tCapableOf\t16.0\n",
      "/c/en/dog\t/c/en/guard_house\tCapableOf\t10.392304845413264\n",
      "/c/en/dog\t/c/en/pet\tRelatedTo\t9.82975075981075\n",
      "/c/en/dog\t/c/en/animal\tRelatedTo\t9.410419756844005\n",
      "/c/en/dog\t/c/en/kennel\tAtLocation\t9.38083151964686\n",
      "/c/en/flea\t/c/en/dog\tRelatedTo\t9.02064299260313\n",
      "/c/en/dog\t/c/en/canine\tRelatedTo\t7.625745865159683\n",
      "/c/en/dog\t/c/en/pet\tCapableOf\t7.483314773547882\n",
      "/c/en/dog\t/c/en/loyal_friend\tIsA\t6.6332495807108\n",
      "/c/en/dog\t/c/en/companionship\tUsedFor\t6.32455532033676\n"
     ]
    }
   ],
   "source": [
    "lang = 'en'\n",
    "word = 'dog'\n",
    "limit = 10\n",
    "input_url = 'http://api.conceptnet.io/c/{}/{}?limit={}'.format(lang, urllib.parse.quote_plus(word), limit)\n",
    "print('Querying {}'.format(input_url))\n",
    "try:\n",
    "    with closing(requests.get(input_url)) as response:\n",
    "        obj = response.json()\n",
    "        for edge in obj['edges']:\n",
    "            s, e, r = edge['start'], edge['end'], edge['rel']\n",
    "            print('{}\\t{}\\t{}\\t{}'.format(s['term'], e['term'], r['label'], edge['weight']))\n",
    "except (requests.exceptions.ConnectionError, requests.exceptions.Timeout, requests.exceptions.TooManyRedirects, ValueError):\n",
    "    print('Connection refused for {}'.format(input_url))"
   ]
  },
  {
   "cell_type": "code",
   "execution_count": null,
   "metadata": {},
   "outputs": [],
   "source": []
  }
 ],
 "metadata": {
  "kernelspec": {
   "display_name": "Python 3",
   "language": "python",
   "name": "python3"
  },
  "language_info": {
   "codemirror_mode": {
    "name": "ipython",
    "version": 3
   },
   "file_extension": ".py",
   "mimetype": "text/x-python",
   "name": "python",
   "nbconvert_exporter": "python",
   "pygments_lexer": "ipython3",
   "version": "3.7.3"
  }
 },
 "nbformat": 4,
 "nbformat_minor": 1
}

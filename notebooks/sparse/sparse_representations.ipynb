{
 "cells": [
  {
   "cell_type": "code",
   "execution_count": 25,
   "metadata": {
    "scrolled": true
   },
   "outputs": [
    {
     "name": "stdout",
     "output_type": "stream",
     "text": [
      "sg_unit_0.3_100_multiling.vec.temp.gz  got downloaded\n"
     ]
    }
   ],
   "source": [
    "import os\n",
    "import wget\n",
    "\n",
    "url = 'http://rgai.inf.u-szeged.hu/~berend/compsem/sg_unit_0.3_100_multiling.vec.temp.gz'\n",
    "embedding_file_name = url.split('/')[-1]\n",
    "if not os.path.exists(embedding_file_name):\n",
    "    filename = wget.download(url)\n",
    "    print(filename, \" got downloaded\")"
   ]
  },
  {
   "cell_type": "markdown",
   "metadata": {},
   "source": [
    "The sparse word representations we just downloaded is compatible with [this test bed](http://128.2.220.95/multilingual/)."
   ]
  },
  {
   "cell_type": "code",
   "execution_count": 29,
   "metadata": {},
   "outputs": [],
   "source": [
    "import gzip\n",
    "from collections import defaultdict\n",
    "\n",
    "languages = ['de', 'en', 'es', 'hu', 'it']\n",
    "\n",
    "per_language_words = defaultdict(list)\n",
    "per_language_vectors = defaultdict(list)\n",
    "\n",
    "def process_line(line):\n",
    "    word, *rest = line.split()\n",
    "    return word[3:], {f:float(v) for f,v in enumerate(rest) if float(v) > 0}\n",
    "\n",
    "for l in gzip.open(embedding_file_name):\n",
    "    line = l.decode('utf-8')\n",
    "    lang_code = line[0:2]\n",
    "    if lang_code in languages:\n",
    "        word, features = process_line(line)\n",
    "        per_language_words[lang_code].append(word)\n",
    "        per_language_vectors[lang_code].append(features)\n",
    "    elif len(per_language_words) == len(languages):\n",
    "        break\n",
    "per_language_w2i = {l:{w:i for i, w in enumerate(words)} for l, words in per_language_words.items()}"
   ]
  },
  {
   "cell_type": "code",
   "execution_count": 30,
   "metadata": {},
   "outputs": [
    {
     "name": "stdout",
     "output_type": "stream",
     "text": [
      "{36: 0.532351} {56: 0.03567872, 36: 0.43500113, 12: 0.09747361}\n"
     ]
    }
   ],
   "source": [
    "loudly_vector = per_language_vectors['en'][per_language_w2i['en']['loudly']]\n",
    "hangosan_vector = per_language_vectors['hu'][per_language_w2i['hu']['hangosan']]\n",
    "print(rose_vector, rozsa_vector)"
   ]
  },
  {
   "cell_type": "markdown",
   "metadata": {},
   "source": [
    "[Jaccard index](https://en.wikipedia.org/wiki/Jaccard_index) is a very simple but effective way to measure similartiy between two objects. Let's try to calculate it between two vectors $u$ and $v$."
   ]
  },
  {
   "cell_type": "code",
   "execution_count": 31,
   "metadata": {},
   "outputs": [],
   "source": [
    "def calculate_jaccard(u, v):\n",
    "    # calculate the Jaccard similarity between two sets of features.\n",
    "    pass"
   ]
  },
  {
   "cell_type": "code",
   "execution_count": null,
   "metadata": {},
   "outputs": [],
   "source": []
  }
 ],
 "metadata": {
  "kernelspec": {
   "display_name": "Python 3",
   "language": "python",
   "name": "python3"
  },
  "language_info": {
   "codemirror_mode": {
    "name": "ipython",
    "version": 3
   },
   "file_extension": ".py",
   "mimetype": "text/x-python",
   "name": "python",
   "nbconvert_exporter": "python",
   "pygments_lexer": "ipython3",
   "version": "3.5.4"
  }
 },
 "nbformat": 4,
 "nbformat_minor": 2
}

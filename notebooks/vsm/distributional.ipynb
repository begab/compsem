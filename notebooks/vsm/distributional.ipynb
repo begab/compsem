{
 "cells": [
  {
   "cell_type": "markdown",
   "metadata": {},
   "source": [
    "# The distributional hypothesis\n",
    "\n",
    "The core idea of computational semantics is based on the [distributional hypothesis](https://en.wikipedia.org/wiki/Distributional_semantics) of Harris and Firth, namely that the meaning of words can be induced from its neighboring words.\n",
    "\n",
    "A simple way to test this hypothesis is via concordance lists in which we query for a words and its neighborhood."
   ]
  },
  {
   "cell_type": "code",
   "execution_count": 1,
   "metadata": {},
   "outputs": [
    {
     "name": "stdout",
     "output_type": "stream",
     "text": [
      "Processing:  austen-emma.txt\n",
      "Processing:  austen-persuasion.txt\n",
      "Processing:  austen-sense.txt\n",
      "Processing:  bible-kjv.txt\n",
      "Processing:  blake-poems.txt\n",
      "Processing:  bryant-stories.txt\n",
      "Processing:  burgess-busterbrown.txt\n",
      "Processing:  carroll-alice.txt\n",
      "Processing:  chesterton-ball.txt\n",
      "Processing:  chesterton-brown.txt\n",
      "Processing:  chesterton-thursday.txt\n",
      "Processing:  edgeworth-parents.txt\n",
      "Processing:  melville-moby_dick.txt\n",
      "Processing:  milton-paradise.txt\n",
      "Processing:  shakespeare-caesar.txt\n",
      "Processing:  shakespeare-hamlet.txt\n",
      "Processing:  shakespeare-macbeth.txt\n",
      "Processing:  whitman-leaves.txt\n"
     ]
    }
   ],
   "source": [
    "import nltk\n",
    "from nltk.corpus import gutenberg\n",
    "\n",
    "corpora = {}\n",
    "for f in gutenberg.fileids():\n",
    "    print(\"Processing: \", f)\n",
    "    text = nltk.Text(gutenberg.words(f))\n",
    "    corpora[f] = text\n"
   ]
  },
  {
   "cell_type": "code",
   "execution_count": 2,
   "metadata": {},
   "outputs": [
    {
     "name": "stdout",
     "output_type": "stream",
     "text": [
      "=======milton-paradise.txt=======\n",
      "=======austen-persuasion.txt=======\n",
      "=======austen-sense.txt=======\n",
      "=======bible-kjv.txt=======\n",
      "pon the earth ; the weasel , and the mouse , and the tortoise after his kind , \n",
      "lesh , and the abomination , and the mouse , shall be consumed together , saith\n",
      "=======blake-poems.txt=======\n",
      "=======shakespeare-hamlet.txt=======\n",
      "e you had quiet Guard ? Fran . Not a Mouse stirring Barn . Well , goodnight . I\n",
      "hat do you call the Play ? Ham . The Mouse - trap : Marry how ? Tropically : Th\n",
      "Wanton on your cheeke , call you his Mouse , And let him for a paire of reechie\n",
      "=======burgess-busterbrown.txt=======\n",
      "bit , Jumper the Hare , Danny Meadow Mouse , Johnny Chuck , Jimmy Skunk , Unc '\n",
      "Even timid little Whitefoot the Wood Mouse was where he could peer out and see \n",
      "=======chesterton-brown.txt=======\n",
      "=======edgeworth-parents.txt=======\n",
      "=======whitman-leaves.txt=======\n",
      " d head surpasses any statue , And a mouse is miracle enough to stagger sextill\n",
      "=======carroll-alice.txt=======\n",
      "tch a bat , and that ' s very like a mouse , you know . But do cats eat bats , \n",
      "she soon made out that it was only a mouse that had slipped in like herself . '\n",
      "' thought Alice , ' to speak to this mouse ? Everything is so out - of - the - \n",
      "harm in trying .' So she began : ' O Mouse , do you know the way out of this po\n",
      "ery tired of swimming about here , O Mouse !' ( Alice thought this must be the \n",
      "st be the right way of speaking to a mouse : she had never done such a thing be\n",
      " her brother ' s Latin Grammar , ' A mouse -- of a mouse -- to a mouse -- a mou\n",
      " s Latin Grammar , ' A mouse -- of a mouse -- to a mouse -- a mouse -- O mouse \n",
      "ar , ' A mouse -- of a mouse -- to a mouse -- a mouse -- O mouse !') The Mouse \n",
      "use -- of a mouse -- to a mouse -- a mouse -- O mouse !') The Mouse looked at h\n",
      " mouse -- to a mouse -- a mouse -- O mouse !') The Mouse looked at her rather i\n",
      " mouse -- a mouse -- O mouse !') The Mouse looked at her rather inquisitively ,\n",
      " Alice ; ' I daresay it ' s a French mouse , come over with William the Conquer\n",
      "ce in her French lesson - book . The Mouse gave a sudden leap out of the water \n",
      "cats .' ' Not like cats !' cried the Mouse , in a shrill , passionate voice . '\n",
      "ried Alice again , for this time the Mouse was bristling all over , and she fel\n",
      "ther not .' ' We indeed !' cried the Mouse , who was trembling down to the end \n",
      "are you fond -- of -- of dogs ?' The Mouse did not answer , so Alice went on ea\n",
      " I ' ve offended it again !' For the Mouse was swimming away from her as hard a\n",
      " . So she called softly after it , ' Mouse dear ! Do come back again , and we w\n",
      "if you don ' t like them !' When the Mouse heard this , it turned round and swa\n",
      "was no more to be said . At last the Mouse , who seemed to be a person of autho\n",
      "at once , in a large ring , with the Mouse in the middle . Alice kept her eyes \n",
      "t dry very soon . ' Ahem !' said the Mouse with an important air , ' are you al\n",
      "er . ' I beg your pardon !' said the Mouse , frowning , but very politely : ' D\n",
      "=======austen-emma.txt=======\n",
      "=======bryant-stories.txt=======\n",
      "dead ! \" Ao ! Ao ! Ao !\" THE COUNTRY MOUSE AND THE CITY MOUSE Once a little mou\n",
      "Ao !\" THE COUNTRY MOUSE AND THE CITY MOUSE Once a little mouse who lived in the\n",
      "USE AND THE CITY MOUSE Once a little mouse who lived in the country invited a l\n",
      "ived in the country invited a little mouse from the city to visit him . When th\n",
      " to visit him . When the little City Mouse sat down to dinner he was surprised \n",
      "s surprised to find that the Country Mouse had nothing to eat except barley and\n",
      "ve in the city .\" The little Country Mouse was glad to do this , and after a wh\n",
      ". The very first place that the City Mouse took the Country Mouse to see was th\n",
      "that the City Mouse took the Country Mouse to see was the kitchen cupboard of t\n",
      "bag of brown sugar . The little City Mouse gnawed a hole in the bag and invited\n",
      "ibbled and nibbled , and the Country Mouse thought he had never tasted anything\n",
      "was just thinking how lucky the City Mouse was , when suddenly the door opened \n",
      " flour . \" Run !\" whispered the City Mouse . And they ran as fast as they could\n",
      "hey had come in . The little Country Mouse was shaking all over when they got s\n",
      "ot safely away , but the little City Mouse said , \" That is nothing ; she will \n",
      "softly back , and this time the City Mouse had something new to show : he took \n",
      "to show : he took the little Country Mouse into a corner on the top shelf , whe\n",
      "the brown sugar . The little Country Mouse liked the taste so much that he coul\n",
      "! \" What is that ?\" said the Country Mouse . The City Mouse just whispered , \" \n",
      "?\" said the Country Mouse . The City Mouse just whispered , \" Sh !\" and ran as \n",
      "s he could to the hole . The Country Mouse ran after , you may be sure , as fas\n",
      " as they were out of danger the City Mouse said , \" That was the old Cat ; she \n",
      " terrible ,\" said the little Country Mouse ; \" let us not go back to the cupboa\n",
      "board again .\" \" No ,\" said the City Mouse , \" I will take you to the cellar ; \n",
      " specially fine there .\" So the City Mouse took his little friend down the cell\n",
      "=======melville-moby_dick.txt=======\n",
      " and the door was locked ; and not a mouse to be heard ; and it ' s been just s\n",
      "whale was but a species of magnified mouse , or at least water - rat , requirin\n",
      "ight cedar as a mildly cruel cat her mouse . With unastonished eyes Fedallah ga\n",
      "=======chesterton-ball.txt=======\n",
      "rridge bowl as big as a house , or a mouse - trap made to catch elephants .\" \" \n",
      " old prisoners could make a pet of a mouse or a beetle strayed out of a hole . \n",
      "=======chesterton-thursday.txt=======\n",
      "=======shakespeare-caesar.txt=======\n",
      "=======shakespeare-macbeth.txt=======\n"
     ]
    }
   ],
   "source": [
    "for k,t in corpora.items():\n",
    "    cl = t.concordance_list('mouse')\n",
    "    print(\"======={}=======\".format(k))\n",
    "    for c in cl:\n",
    "        print(c.line)"
   ]
  },
  {
   "cell_type": "code",
   "execution_count": 3,
   "metadata": {},
   "outputs": [
    {
     "data": {
      "text/plain": [
       "[\"'\", 's', '-', 'Self', 'I', 'Sing', 'One', \"'\", 's', '-']"
      ]
     },
     "execution_count": 3,
     "metadata": {},
     "output_type": "execute_result"
    }
   ],
   "source": [
    "gutenberg.words(f)[120:130]"
   ]
  },
  {
   "cell_type": "code",
   "execution_count": 4,
   "metadata": {},
   "outputs": [
    {
     "data": {
      "text/plain": [
       "'whitman-leaves.txt'"
      ]
     },
     "execution_count": 4,
     "metadata": {},
     "output_type": "execute_result"
    }
   ],
   "source": [
    "f"
   ]
  },
  {
   "cell_type": "code",
   "execution_count": null,
   "metadata": {},
   "outputs": [],
   "source": []
  }
 ],
 "metadata": {
  "kernelspec": {
   "display_name": "Python 3",
   "language": "python",
   "name": "python3"
  },
  "language_info": {
   "codemirror_mode": {
    "name": "ipython",
    "version": 3
   },
   "file_extension": ".py",
   "mimetype": "text/x-python",
   "name": "python",
   "nbconvert_exporter": "python",
   "pygments_lexer": "ipython3",
   "version": "3.5.4"
  }
 },
 "nbformat": 4,
 "nbformat_minor": 2
}
